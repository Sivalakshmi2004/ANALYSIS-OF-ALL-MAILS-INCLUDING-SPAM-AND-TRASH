{
  "nbformat": 4,
  "nbformat_minor": 0,
  "metadata": {
    "colab": {
      "provenance": [],
      "authorship_tag": "ABX9TyNGY73r4z4Oyxe/yKr9eXKU",
      "include_colab_link": true
    },
    "kernelspec": {
      "name": "python3",
      "display_name": "Python 3"
    },
    "language_info": {
      "name": "python"
    }
  },
  "cells": [
    {
      "cell_type": "markdown",
      "metadata": {
        "id": "view-in-github",
        "colab_type": "text"
      },
      "source": [
        "<a href=\"https://colab.research.google.com/github/Sivalakshmi2004/ANALYSIS-OF-ALL-MAILS-INCLUDING-SPAM-AND-TRASH/blob/main/Commodity_Search_system_for_online_shopping_using_ML_algorithm.ipynb\" target=\"_parent\"><img src=\"https://colab.research.google.com/assets/colab-badge.svg\" alt=\"Open In Colab\"/></a>"
      ]
    },
    {
      "cell_type": "code",
      "execution_count": null,
      "metadata": {
        "colab": {
          "base_uri": "https://localhost:8080/"
        },
        "id": "wTzop0lZPtob",
        "outputId": "1a654784-c6b0-43b6-dd4b-2f0fb5c6f553"
      },
      "outputs": [
        {
          "output_type": "stream",
          "name": "stdout",
          "text": [
            "Mounted at /content/drive\n"
          ]
        }
      ],
      "source": [
        "from google.colab import drive\n",
        "drive.mount('/content/drive')"
      ]
    },
    {
      "cell_type": "code",
      "source": [
        "import pandas as pd"
      ],
      "metadata": {
        "id": "o9Ug4F0pTMr7"
      },
      "execution_count": null,
      "outputs": []
    },
    {
      "cell_type": "code",
      "source": [
        "df=pd.read_csv('/content/drive/MyDrive/market.csv')\n",
        "df"
      ],
      "metadata": {
        "colab": {
          "base_uri": "https://localhost:8080/",
          "height": 423
        },
        "id": "Uu0vg7ywSIxY",
        "outputId": "aa577896-426b-4361-fa05-aa7e7a5a193b"
      },
      "execution_count": null,
      "outputs": [
        {
          "output_type": "execute_result",
          "data": {
            "text/plain": [
              "        Ord_id  Prod_id   Ship_id    Cust_id      Sales  Discount  \\\n",
              "0     Ord_5446  Prod_16  SHP_7609  Cust_1818   136.8100      0.01   \n",
              "1     Ord_5406  Prod_13  SHP_7549  Cust_1818    42.2700      0.01   \n",
              "2     Ord_5446   Prod_4  SHP_7610  Cust_1818  4701.6900      0.00   \n",
              "3     Ord_5456   Prod_6  SHP_7625  Cust_1818  2337.8900      0.09   \n",
              "4     Ord_5485  Prod_17  SHP_7664  Cust_1818  4233.1500      0.08   \n",
              "...        ...      ...       ...        ...        ...       ...   \n",
              "8394  Ord_5353   Prod_4  SHP_7479  Cust_1798  2841.4395      0.08   \n",
              "8395  Ord_5411   Prod_6  SHP_7555  Cust_1798   127.1600      0.10   \n",
              "8396  Ord_5388   Prod_6  SHP_7524  Cust_1798   243.0500      0.02   \n",
              "8397  Ord_5348  Prod_15  SHP_7469  Cust_1798  3872.8700      0.03   \n",
              "8398  Ord_5459   Prod_6  SHP_7628  Cust_1798   603.6900      0.00   \n",
              "\n",
              "      Order_Quantity   Profit  Shipping_Cost  Product_Base_Margin  \n",
              "0                 23   -30.51           3.60                 0.56  \n",
              "1                 13     4.56           0.93                 0.54  \n",
              "2                 26  1148.90           2.50                 0.59  \n",
              "3                 43   729.34          14.30                 0.37  \n",
              "4                 35  1219.87          26.30                 0.38  \n",
              "...              ...      ...            ...                  ...  \n",
              "8394              28   374.63           7.69                 0.59  \n",
              "8395              20   -74.03           6.92                 0.37  \n",
              "8396              39   -70.85           5.35                 0.40  \n",
              "8397              23   565.34          30.00                 0.62  \n",
              "8398              47   131.39           4.86                 0.38  \n",
              "\n",
              "[8399 rows x 10 columns]"
            ],
            "text/html": [
              "\n",
              "  <div id=\"df-3e8f346d-03a0-4b2a-bfaa-fb61a462d9ca\">\n",
              "    <div class=\"colab-df-container\">\n",
              "      <div>\n",
              "<style scoped>\n",
              "    .dataframe tbody tr th:only-of-type {\n",
              "        vertical-align: middle;\n",
              "    }\n",
              "\n",
              "    .dataframe tbody tr th {\n",
              "        vertical-align: top;\n",
              "    }\n",
              "\n",
              "    .dataframe thead th {\n",
              "        text-align: right;\n",
              "    }\n",
              "</style>\n",
              "<table border=\"1\" class=\"dataframe\">\n",
              "  <thead>\n",
              "    <tr style=\"text-align: right;\">\n",
              "      <th></th>\n",
              "      <th>Ord_id</th>\n",
              "      <th>Prod_id</th>\n",
              "      <th>Ship_id</th>\n",
              "      <th>Cust_id</th>\n",
              "      <th>Sales</th>\n",
              "      <th>Discount</th>\n",
              "      <th>Order_Quantity</th>\n",
              "      <th>Profit</th>\n",
              "      <th>Shipping_Cost</th>\n",
              "      <th>Product_Base_Margin</th>\n",
              "    </tr>\n",
              "  </thead>\n",
              "  <tbody>\n",
              "    <tr>\n",
              "      <th>0</th>\n",
              "      <td>Ord_5446</td>\n",
              "      <td>Prod_16</td>\n",
              "      <td>SHP_7609</td>\n",
              "      <td>Cust_1818</td>\n",
              "      <td>136.8100</td>\n",
              "      <td>0.01</td>\n",
              "      <td>23</td>\n",
              "      <td>-30.51</td>\n",
              "      <td>3.60</td>\n",
              "      <td>0.56</td>\n",
              "    </tr>\n",
              "    <tr>\n",
              "      <th>1</th>\n",
              "      <td>Ord_5406</td>\n",
              "      <td>Prod_13</td>\n",
              "      <td>SHP_7549</td>\n",
              "      <td>Cust_1818</td>\n",
              "      <td>42.2700</td>\n",
              "      <td>0.01</td>\n",
              "      <td>13</td>\n",
              "      <td>4.56</td>\n",
              "      <td>0.93</td>\n",
              "      <td>0.54</td>\n",
              "    </tr>\n",
              "    <tr>\n",
              "      <th>2</th>\n",
              "      <td>Ord_5446</td>\n",
              "      <td>Prod_4</td>\n",
              "      <td>SHP_7610</td>\n",
              "      <td>Cust_1818</td>\n",
              "      <td>4701.6900</td>\n",
              "      <td>0.00</td>\n",
              "      <td>26</td>\n",
              "      <td>1148.90</td>\n",
              "      <td>2.50</td>\n",
              "      <td>0.59</td>\n",
              "    </tr>\n",
              "    <tr>\n",
              "      <th>3</th>\n",
              "      <td>Ord_5456</td>\n",
              "      <td>Prod_6</td>\n",
              "      <td>SHP_7625</td>\n",
              "      <td>Cust_1818</td>\n",
              "      <td>2337.8900</td>\n",
              "      <td>0.09</td>\n",
              "      <td>43</td>\n",
              "      <td>729.34</td>\n",
              "      <td>14.30</td>\n",
              "      <td>0.37</td>\n",
              "    </tr>\n",
              "    <tr>\n",
              "      <th>4</th>\n",
              "      <td>Ord_5485</td>\n",
              "      <td>Prod_17</td>\n",
              "      <td>SHP_7664</td>\n",
              "      <td>Cust_1818</td>\n",
              "      <td>4233.1500</td>\n",
              "      <td>0.08</td>\n",
              "      <td>35</td>\n",
              "      <td>1219.87</td>\n",
              "      <td>26.30</td>\n",
              "      <td>0.38</td>\n",
              "    </tr>\n",
              "    <tr>\n",
              "      <th>...</th>\n",
              "      <td>...</td>\n",
              "      <td>...</td>\n",
              "      <td>...</td>\n",
              "      <td>...</td>\n",
              "      <td>...</td>\n",
              "      <td>...</td>\n",
              "      <td>...</td>\n",
              "      <td>...</td>\n",
              "      <td>...</td>\n",
              "      <td>...</td>\n",
              "    </tr>\n",
              "    <tr>\n",
              "      <th>8394</th>\n",
              "      <td>Ord_5353</td>\n",
              "      <td>Prod_4</td>\n",
              "      <td>SHP_7479</td>\n",
              "      <td>Cust_1798</td>\n",
              "      <td>2841.4395</td>\n",
              "      <td>0.08</td>\n",
              "      <td>28</td>\n",
              "      <td>374.63</td>\n",
              "      <td>7.69</td>\n",
              "      <td>0.59</td>\n",
              "    </tr>\n",
              "    <tr>\n",
              "      <th>8395</th>\n",
              "      <td>Ord_5411</td>\n",
              "      <td>Prod_6</td>\n",
              "      <td>SHP_7555</td>\n",
              "      <td>Cust_1798</td>\n",
              "      <td>127.1600</td>\n",
              "      <td>0.10</td>\n",
              "      <td>20</td>\n",
              "      <td>-74.03</td>\n",
              "      <td>6.92</td>\n",
              "      <td>0.37</td>\n",
              "    </tr>\n",
              "    <tr>\n",
              "      <th>8396</th>\n",
              "      <td>Ord_5388</td>\n",
              "      <td>Prod_6</td>\n",
              "      <td>SHP_7524</td>\n",
              "      <td>Cust_1798</td>\n",
              "      <td>243.0500</td>\n",
              "      <td>0.02</td>\n",
              "      <td>39</td>\n",
              "      <td>-70.85</td>\n",
              "      <td>5.35</td>\n",
              "      <td>0.40</td>\n",
              "    </tr>\n",
              "    <tr>\n",
              "      <th>8397</th>\n",
              "      <td>Ord_5348</td>\n",
              "      <td>Prod_15</td>\n",
              "      <td>SHP_7469</td>\n",
              "      <td>Cust_1798</td>\n",
              "      <td>3872.8700</td>\n",
              "      <td>0.03</td>\n",
              "      <td>23</td>\n",
              "      <td>565.34</td>\n",
              "      <td>30.00</td>\n",
              "      <td>0.62</td>\n",
              "    </tr>\n",
              "    <tr>\n",
              "      <th>8398</th>\n",
              "      <td>Ord_5459</td>\n",
              "      <td>Prod_6</td>\n",
              "      <td>SHP_7628</td>\n",
              "      <td>Cust_1798</td>\n",
              "      <td>603.6900</td>\n",
              "      <td>0.00</td>\n",
              "      <td>47</td>\n",
              "      <td>131.39</td>\n",
              "      <td>4.86</td>\n",
              "      <td>0.38</td>\n",
              "    </tr>\n",
              "  </tbody>\n",
              "</table>\n",
              "<p>8399 rows × 10 columns</p>\n",
              "</div>\n",
              "      <button class=\"colab-df-convert\" onclick=\"convertToInteractive('df-3e8f346d-03a0-4b2a-bfaa-fb61a462d9ca')\"\n",
              "              title=\"Convert this dataframe to an interactive table.\"\n",
              "              style=\"display:none;\">\n",
              "        \n",
              "  <svg xmlns=\"http://www.w3.org/2000/svg\" height=\"24px\"viewBox=\"0 0 24 24\"\n",
              "       width=\"24px\">\n",
              "    <path d=\"M0 0h24v24H0V0z\" fill=\"none\"/>\n",
              "    <path d=\"M18.56 5.44l.94 2.06.94-2.06 2.06-.94-2.06-.94-.94-2.06-.94 2.06-2.06.94zm-11 1L8.5 8.5l.94-2.06 2.06-.94-2.06-.94L8.5 2.5l-.94 2.06-2.06.94zm10 10l.94 2.06.94-2.06 2.06-.94-2.06-.94-.94-2.06-.94 2.06-2.06.94z\"/><path d=\"M17.41 7.96l-1.37-1.37c-.4-.4-.92-.59-1.43-.59-.52 0-1.04.2-1.43.59L10.3 9.45l-7.72 7.72c-.78.78-.78 2.05 0 2.83L4 21.41c.39.39.9.59 1.41.59.51 0 1.02-.2 1.41-.59l7.78-7.78 2.81-2.81c.8-.78.8-2.07 0-2.86zM5.41 20L4 18.59l7.72-7.72 1.47 1.35L5.41 20z\"/>\n",
              "  </svg>\n",
              "      </button>\n",
              "      \n",
              "  <style>\n",
              "    .colab-df-container {\n",
              "      display:flex;\n",
              "      flex-wrap:wrap;\n",
              "      gap: 12px;\n",
              "    }\n",
              "\n",
              "    .colab-df-convert {\n",
              "      background-color: #E8F0FE;\n",
              "      border: none;\n",
              "      border-radius: 50%;\n",
              "      cursor: pointer;\n",
              "      display: none;\n",
              "      fill: #1967D2;\n",
              "      height: 32px;\n",
              "      padding: 0 0 0 0;\n",
              "      width: 32px;\n",
              "    }\n",
              "\n",
              "    .colab-df-convert:hover {\n",
              "      background-color: #E2EBFA;\n",
              "      box-shadow: 0px 1px 2px rgba(60, 64, 67, 0.3), 0px 1px 3px 1px rgba(60, 64, 67, 0.15);\n",
              "      fill: #174EA6;\n",
              "    }\n",
              "\n",
              "    [theme=dark] .colab-df-convert {\n",
              "      background-color: #3B4455;\n",
              "      fill: #D2E3FC;\n",
              "    }\n",
              "\n",
              "    [theme=dark] .colab-df-convert:hover {\n",
              "      background-color: #434B5C;\n",
              "      box-shadow: 0px 1px 3px 1px rgba(0, 0, 0, 0.15);\n",
              "      filter: drop-shadow(0px 1px 2px rgba(0, 0, 0, 0.3));\n",
              "      fill: #FFFFFF;\n",
              "    }\n",
              "  </style>\n",
              "\n",
              "      <script>\n",
              "        const buttonEl =\n",
              "          document.querySelector('#df-3e8f346d-03a0-4b2a-bfaa-fb61a462d9ca button.colab-df-convert');\n",
              "        buttonEl.style.display =\n",
              "          google.colab.kernel.accessAllowed ? 'block' : 'none';\n",
              "\n",
              "        async function convertToInteractive(key) {\n",
              "          const element = document.querySelector('#df-3e8f346d-03a0-4b2a-bfaa-fb61a462d9ca');\n",
              "          const dataTable =\n",
              "            await google.colab.kernel.invokeFunction('convertToInteractive',\n",
              "                                                     [key], {});\n",
              "          if (!dataTable) return;\n",
              "\n",
              "          const docLinkHtml = 'Like what you see? Visit the ' +\n",
              "            '<a target=\"_blank\" href=https://colab.research.google.com/notebooks/data_table.ipynb>data table notebook</a>'\n",
              "            + ' to learn more about interactive tables.';\n",
              "          element.innerHTML = '';\n",
              "          dataTable['output_type'] = 'display_data';\n",
              "          await google.colab.output.renderOutput(dataTable, element);\n",
              "          const docLink = document.createElement('div');\n",
              "          docLink.innerHTML = docLinkHtml;\n",
              "          element.appendChild(docLink);\n",
              "        }\n",
              "      </script>\n",
              "    </div>\n",
              "  </div>\n",
              "  "
            ]
          },
          "metadata": {},
          "execution_count": 3
        }
      ]
    },
    {
      "cell_type": "code",
      "source": [
        "df.info()"
      ],
      "metadata": {
        "colab": {
          "base_uri": "https://localhost:8080/"
        },
        "id": "nfcX56qKnl5Y",
        "outputId": "ecb9064b-abd9-4aee-8926-bfb14f8c0f45"
      },
      "execution_count": null,
      "outputs": [
        {
          "output_type": "stream",
          "name": "stdout",
          "text": [
            "<class 'pandas.core.frame.DataFrame'>\n",
            "RangeIndex: 8399 entries, 0 to 8398\n",
            "Data columns (total 10 columns):\n",
            " #   Column               Non-Null Count  Dtype  \n",
            "---  ------               --------------  -----  \n",
            " 0   Ord_id               8399 non-null   object \n",
            " 1   Prod_id              8399 non-null   object \n",
            " 2   Ship_id              8399 non-null   object \n",
            " 3   Cust_id              8399 non-null   object \n",
            " 4   Sales                8399 non-null   float64\n",
            " 5   Discount             8399 non-null   float64\n",
            " 6   Order_Quantity       8399 non-null   int64  \n",
            " 7   Profit               8399 non-null   float64\n",
            " 8   Shipping_Cost        8399 non-null   float64\n",
            " 9   Product_Base_Margin  8336 non-null   float64\n",
            "dtypes: float64(5), int64(1), object(4)\n",
            "memory usage: 656.3+ KB\n"
          ]
        }
      ]
    },
    {
      "cell_type": "code",
      "source": [
        "print(df.columns)"
      ],
      "metadata": {
        "colab": {
          "base_uri": "https://localhost:8080/"
        },
        "id": "GGxdzVIlm2MP",
        "outputId": "56ba63c6-3ede-4c72-8586-5058dac4b104"
      },
      "execution_count": null,
      "outputs": [
        {
          "output_type": "stream",
          "name": "stdout",
          "text": [
            "Index(['Ord_id', 'Prod_id', 'Ship_id', 'Cust_id', 'Sales', 'Discount',\n",
            "       'Order_Quantity', 'Profit', 'Shipping_Cost', 'Product_Base_Margin'],\n",
            "      dtype='object')\n"
          ]
        }
      ]
    },
    {
      "cell_type": "code",
      "source": [
        "#selecting columns\n",
        "# Selecting only the relevant columns\n",
        "df = df[['Sales','Order_Quantity', 'Discount', 'Profit', 'Shipping_Cost', 'Product_Base_Margin']]\n"
      ],
      "metadata": {
        "id": "Q3zcwdrelHua"
      },
      "execution_count": null,
      "outputs": []
    },
    {
      "cell_type": "code",
      "source": [
        "df.isna().sum()"
      ],
      "metadata": {
        "colab": {
          "base_uri": "https://localhost:8080/"
        },
        "id": "AnNxzRxvXJBz",
        "outputId": "b8fac8b1-b238-4f46-ce1b-4ef098ee355b"
      },
      "execution_count": null,
      "outputs": [
        {
          "output_type": "execute_result",
          "data": {
            "text/plain": [
              "Sales                   0\n",
              "Order_Quantity          0\n",
              "Discount                0\n",
              "Profit                  0\n",
              "Shipping_Cost           0\n",
              "Product_Base_Margin    63\n",
              "dtype: int64"
            ]
          },
          "metadata": {},
          "execution_count": 8
        }
      ]
    },
    {
      "cell_type": "code",
      "source": [
        "df=df.drop('Product_Base_Margin',axis=1)"
      ],
      "metadata": {
        "id": "hd4OhrhKXU7s"
      },
      "execution_count": null,
      "outputs": []
    },
    {
      "cell_type": "code",
      "source": [
        "# Import necessary libraries\n",
        "import pandas as pd\n",
        "from sklearn.preprocessing import LabelEncoder\n",
        "from sklearn.ensemble import RandomForestRegressor\n",
        "from sklearn.model_selection import train_test_split\n",
        "from sklearn.metrics import mean_squared_error\n",
        "#selecting columns\n",
        "df = df[['Sales','Order_Quantity', 'Discount', 'Profit', 'Shipping_Cost']]\n",
        "\n",
        "# Split the data into training and testing sets\n",
        "X = df.drop('Sales', axis=1)\n",
        "y = df['Sales']\n",
        "X_train, X_test, y_train, y_test = train_test_split(X, y, test_size=0.2, random_state=42)\n",
        "\n",
        "# Create the random forest regression model\n",
        "rfr = RandomForestRegressor(n_estimators=100, random_state=42)\n",
        "\n",
        "\n",
        "# Fit the model to the training data\n",
        "rfr.fit(X_train, y_train)\n",
        "\n",
        "# Make predictions on the testing data\n",
        "y_pred = rfr.predict(X_test)\n",
        "\n",
        "# Evaluate the model using mean squared error\n",
        "mse = mean_squared_error(y_test, y_pred)\n",
        "print('Mean squared error:', mse)\n",
        "\n",
        "# Define a function to take user input and make a prediction\n",
        "def search_product():\n",
        "    order_quantity = int(input('Enter the order quantity: '))\n",
        "    discount = float(input('Enter the discount percentage: '))\n",
        "    profit = float(input('Enter the profit percentage: '))\n",
        "    shipping_cost = float(input('Enter the shipping cost: '))\n",
        "    new_data = [[order_quantity, discount, profit, shipping_cost]]\n",
        "    prediction = rfr.predict(new_data)[0]\n",
        "    print('Predicted sales:', prediction)\n",
        "\n",
        "# Call the search_product() function to get user input and make a prediction\n",
        "search_product()\n",
        "\n"
      ],
      "metadata": {
        "colab": {
          "base_uri": "https://localhost:8080/"
        },
        "id": "xAzQlTogQGEO",
        "outputId": "5c869e9f-3b57-446f-a09c-d05744d40fd0"
      },
      "execution_count": null,
      "outputs": [
        {
          "output_type": "stream",
          "name": "stdout",
          "text": [
            "Mean squared error: 3002629.138742271\n",
            "Enter the order quantity: 13\n",
            "Enter the discount percentage: 0.01\n",
            "Enter the profit percentage: 4.56\n",
            "Enter the shipping cost: 0.93\n",
            "Predicted sales: 45.79152500000002\n"
          ]
        },
        {
          "output_type": "stream",
          "name": "stderr",
          "text": [
            "/usr/local/lib/python3.9/dist-packages/sklearn/base.py:439: UserWarning: X does not have valid feature names, but RandomForestRegressor was fitted with feature names\n",
            "  warnings.warn(\n"
          ]
        }
      ]
    },
    {
      "cell_type": "code",
      "source": [],
      "metadata": {
        "id": "CUsl1VLFbIK-"
      },
      "execution_count": null,
      "outputs": []
    }
  ]
}